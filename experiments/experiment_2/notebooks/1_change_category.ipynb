{
 "cells": [
  {
   "cell_type": "code",
   "execution_count": 1,
   "metadata": {},
   "outputs": [
    {
     "name": "stderr",
     "output_type": "stream",
     "text": [
      "/tmp/ipykernel_14704/3336268860.py:2: DeprecationWarning: \n",
      "Pyarrow will become a required dependency of pandas in the next major release of pandas (pandas 3.0),\n",
      "(to allow more performant data types, such as the Arrow string type, and better interoperability with other libraries)\n",
      "but was not found to be installed on your system.\n",
      "If this would cause problems for you,\n",
      "please provide us feedback at https://github.com/pandas-dev/pandas/issues/54466\n",
      "        \n",
      "  import pandas as pd\n"
     ]
    },
    {
     "name": "stdout",
     "output_type": "stream",
     "text": [
      "/home/jose/Git/NeurIPS-2024-LLM-and-Psychopathology/experiments/experiment_2/notebooks\n",
      "/home/jose/Git/NeurIPS-2024-LLM-and-Psychopathology\n",
      "['models', 'environment.yml', '.gitignore', 'experiments', 'include', '.git', 'README.md', '.env-example', 'LICENSE']\n"
     ]
    }
   ],
   "source": [
    "import os\n",
    "import pandas as pd\n",
    "import seaborn as sns\n",
    "import matplotlib.pyplot as plt\n",
    "import numpy as np\n",
    "import gensim.downloader as api\n",
    "import numpy as np\n",
    "from sklearn.decomposition import PCA\n",
    "import matplotlib.pyplot as plt \n",
    "\n",
    "# Current work\n",
    "print(os.getcwd())\n",
    "# Change directory 2 level up\n",
    "os.chdir(\"..\")\n",
    "os.chdir(\"..\")\n",
    "os.chdir(\"..\")\n",
    "\n",
    "print(os.getcwd())\n",
    "# Look for the file in the directory\n",
    "print(os.listdir())"
   ]
  },
  {
   "cell_type": "code",
   "execution_count": 2,
   "metadata": {},
   "outputs": [],
   "source": [
    "model = \"llama\"\n",
    "prompt_technique = \"react\"\n",
    "temperature = 0.3\n",
    "data = pd.read_csv(f\"experiments/experiment_2/results/{model}/results_{prompt_technique}_{model}_{temperature}.csv\")\n"
   ]
  },
  {
   "cell_type": "code",
   "execution_count": 3,
   "metadata": {},
   "outputs": [],
   "source": [
    "concreteness = pd.read_json('experiments/experiment_2/data/concreteness.json')\n",
    "\n",
    "def determine_category(word):\n",
    "    if word in concreteness['concrete'].values:\n",
    "        return 'Concrete'\n",
    "    elif word in concreteness['abstract'].values:\n",
    "        return 'Abstract'\n",
    "    else:\n",
    "        return 'Unknown'\n",
    "\n",
    "# apply low case to the 'Surveyed Word' column\n",
    "data['Surveyed Word'] = data['Surveyed Word'].str.lower()\n",
    "\n",
    "# if in data in surveyede word column a word is Time management, then change it to time-management\n",
    "data['Surveyed Word'] = data['Surveyed Word'].str.replace(' ', '-')\n",
    "data['Surveyed Word'] = data['Surveyed Word'].replace('management', 'time-management')\n",
    "data[\"Related 1\"] = data[\"Related 1\"].str.lower()\n",
    "data[\"Related 2\"] = data[\"Related 2\"].str.lower()\n",
    "data[\"Related 3\"] = data[\"Related 3\"].str.lower()\n",
    "data[\"Related 4\"] = data[\"Related 4\"].str.lower()\n",
    "data[\"Related 5\"] = data[\"Related 5\"].str.lower()\n",
    "data[\"Related 6\"] = data[\"Related 6\"].str.lower()\n",
    "data[\"Related 7\"] = data[\"Related 7\"].str.lower()\n",
    "data[\"Related 8\"] = data[\"Related 8\"].str.lower()\n",
    "data[\"Related 9\"] = data[\"Related 9\"].str.lower()\n",
    "data[\"Related 10\"] = data[\"Related 10\"].str.lower()\n",
    "\n",
    "data['Category'] = data['Surveyed Word'].apply(determine_category)\n",
    "\n",
    "data.to_csv(f\"experiments/experiment_2/results/{model}/results_{prompt_technique}_{model}_{temperature}_cleaned.csv\", index=False)"
   ]
  },
  {
   "cell_type": "code",
   "execution_count": null,
   "metadata": {},
   "outputs": [
    {
     "data": {
      "text/plain": [
       "0         alarm\n",
       "1       alcohol\n",
       "2     bickering\n",
       "3       bicycle\n",
       "4         books\n",
       "        ...    \n",
       "75      vitamin\n",
       "76         walk\n",
       "77        watch\n",
       "78        water\n",
       "79        yacht\n",
       "Name: concrete, Length: 80, dtype: object"
      ]
     },
     "execution_count": 4,
     "metadata": {},
     "output_type": "execute_result"
    }
   ],
   "source": [
    "concreteness['concrete']"
   ]
  },
  {
   "cell_type": "code",
   "execution_count": null,
   "metadata": {},
   "outputs": [
    {
     "name": "stdout",
     "output_type": "stream",
     "text": [
      "80\n",
      "80\n"
     ]
    }
   ],
   "source": [
    "#check len of concrete and abstract from the variable concreteness\n",
    "print(len(concreteness['concrete']))\n",
    "print(len(concreteness['abstract']))"
   ]
  },
  {
   "cell_type": "code",
   "execution_count": null,
   "metadata": {},
   "outputs": [
    {
     "name": "stdout",
     "output_type": "stream",
     "text": [
      "2000\n"
     ]
    }
   ],
   "source": [
    "#check how many unknown are in surveyed word column\n",
    "print(len(data[data['Category'] == 'Unknown']))"
   ]
  }
 ],
 "metadata": {
  "kernelspec": {
   "display_name": "psy_inv",
   "language": "python",
   "name": "python3"
  },
  "language_info": {
   "codemirror_mode": {
    "name": "ipython",
    "version": 3
   },
   "file_extension": ".py",
   "mimetype": "text/x-python",
   "name": "python",
   "nbconvert_exporter": "python",
   "pygments_lexer": "ipython3",
   "version": "3.10.13"
  }
 },
 "nbformat": 4,
 "nbformat_minor": 2
}
