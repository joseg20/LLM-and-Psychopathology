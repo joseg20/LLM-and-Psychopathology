{
 "cells": [
  {
   "cell_type": "code",
   "execution_count": 1,
   "metadata": {},
   "outputs": [
    {
     "name": "stderr",
     "output_type": "stream",
     "text": [
      "/tmp/ipykernel_30792/75514973.py:1: DeprecationWarning: \n",
      "Pyarrow will become a required dependency of pandas in the next major release of pandas (pandas 3.0),\n",
      "(to allow more performant data types, such as the Arrow string type, and better interoperability with other libraries)\n",
      "but was not found to be installed on your system.\n",
      "If this would cause problems for you,\n",
      "please provide us feedback at https://github.com/pandas-dev/pandas/issues/54466\n",
      "        \n",
      "  import pandas as pd\n"
     ]
    },
    {
     "name": "stdout",
     "output_type": "stream",
     "text": [
      "/home/jose/Git/SE-AP/experiments/experiment_2/notebooks\n",
      "/home/jose/Git/SE-AP\n",
      "['models', 'todo.md', '.pre-commit-config.yaml', 'demos', '.gitignore', 'experiments', 'include', '.git', '.env', 'README.md', '.env-example', 'LICENSE', 'model_technique_pathology_scores.csv']\n"
     ]
    },
    {
     "data": {
      "text/html": [
       "<div>\n",
       "<style scoped>\n",
       "    .dataframe tbody tr th:only-of-type {\n",
       "        vertical-align: middle;\n",
       "    }\n",
       "\n",
       "    .dataframe tbody tr th {\n",
       "        vertical-align: top;\n",
       "    }\n",
       "\n",
       "    .dataframe thead th {\n",
       "        text-align: right;\n",
       "    }\n",
       "</style>\n",
       "<table border=\"1\" class=\"dataframe\">\n",
       "  <thead>\n",
       "    <tr style=\"text-align: right;\">\n",
       "      <th></th>\n",
       "      <th>Word</th>\n",
       "      <th>Bigram</th>\n",
       "      <th>Conc.M</th>\n",
       "      <th>Conc.SD</th>\n",
       "      <th>Unknown</th>\n",
       "      <th>Total</th>\n",
       "      <th>Percent_known</th>\n",
       "      <th>SUBTLEX</th>\n",
       "    </tr>\n",
       "  </thead>\n",
       "  <tbody>\n",
       "    <tr>\n",
       "      <th>0</th>\n",
       "      <td>a</td>\n",
       "      <td>0</td>\n",
       "      <td>1.46</td>\n",
       "      <td>1.14</td>\n",
       "      <td>2</td>\n",
       "      <td>30</td>\n",
       "      <td>0.933333</td>\n",
       "      <td>1041179</td>\n",
       "    </tr>\n",
       "    <tr>\n",
       "      <th>1</th>\n",
       "      <td>aardvark</td>\n",
       "      <td>0</td>\n",
       "      <td>4.68</td>\n",
       "      <td>0.86</td>\n",
       "      <td>0</td>\n",
       "      <td>28</td>\n",
       "      <td>1.000000</td>\n",
       "      <td>21</td>\n",
       "    </tr>\n",
       "    <tr>\n",
       "      <th>2</th>\n",
       "      <td>aback</td>\n",
       "      <td>0</td>\n",
       "      <td>1.65</td>\n",
       "      <td>1.07</td>\n",
       "      <td>4</td>\n",
       "      <td>27</td>\n",
       "      <td>0.851852</td>\n",
       "      <td>15</td>\n",
       "    </tr>\n",
       "    <tr>\n",
       "      <th>3</th>\n",
       "      <td>abacus</td>\n",
       "      <td>0</td>\n",
       "      <td>4.52</td>\n",
       "      <td>1.12</td>\n",
       "      <td>2</td>\n",
       "      <td>29</td>\n",
       "      <td>0.931034</td>\n",
       "      <td>12</td>\n",
       "    </tr>\n",
       "    <tr>\n",
       "      <th>4</th>\n",
       "      <td>abandon</td>\n",
       "      <td>0</td>\n",
       "      <td>2.54</td>\n",
       "      <td>1.45</td>\n",
       "      <td>1</td>\n",
       "      <td>27</td>\n",
       "      <td>0.962963</td>\n",
       "      <td>413</td>\n",
       "    </tr>\n",
       "  </tbody>\n",
       "</table>\n",
       "</div>"
      ],
      "text/plain": [
       "       Word  Bigram  Conc.M  Conc.SD  Unknown  Total  Percent_known  SUBTLEX\n",
       "0         a       0    1.46     1.14        2     30       0.933333  1041179\n",
       "1  aardvark       0    4.68     0.86        0     28       1.000000       21\n",
       "2     aback       0    1.65     1.07        4     27       0.851852       15\n",
       "3    abacus       0    4.52     1.12        2     29       0.931034       12\n",
       "4   abandon       0    2.54     1.45        1     27       0.962963      413"
      ]
     },
     "execution_count": 1,
     "metadata": {},
     "output_type": "execute_result"
    }
   ],
   "source": [
    "import pandas as pd\n",
    "import os\n",
    "# Current work\n",
    "print(os.getcwd())\n",
    "# Change directory 2 level up\n",
    "os.chdir(\"..\")\n",
    "os.chdir(\"..\")\n",
    "os.chdir(\"..\")\n",
    "\n",
    "print(os.getcwd())\n",
    "# Look for the file in the directory\n",
    "print(os.listdir())\n",
    "\n",
    "file_path = 'experiments/experiment_2/data/13428_2013_403_MOESM1_ESM.xlsx'\n",
    "\n",
    "try:\n",
    "    concreteness_data = pd.read_excel(file_path, sheet_name=0)\n",
    "    \n",
    "    preview = concreteness_data.head()\n",
    "except Exception as e:\n",
    "    preview = str(e)\n",
    "\n",
    "preview\n"
   ]
  },
  {
   "cell_type": "markdown",
   "metadata": {},
   "source": [
    "## looking and processing data"
   ]
  },
  {
   "cell_type": "code",
   "execution_count": 2,
   "metadata": {},
   "outputs": [
    {
     "name": "stdout",
     "output_type": "stream",
     "text": [
      "['alarm', 'boss', 'calendar', 'chat', 'clock', 'contract', 'email', 'employee', 'factory', 'game', 'learning', 'meeting', 'noise', 'office', 'organization', 'party', 'presentation', 'report', 'salary', 'time-management']\n",
      "['alarm', 'boss', 'calendar', 'chat', 'clock', 'contract', 'email', 'employee', 'factory', 'game', 'learning', 'meeting', 'noise', 'office', 'organization', 'party', 'presentation', 'report', 'salary', 'timekeeping']\n",
      "['bicker', 'caress', 'coldness', 'compliment', 'connection', 'conversation', 'cuddle', 'date', 'dinner', 'distance', 'divorce', 'frown', 'gift', 'handshake', 'hit', 'hug', 'kiss', 'sex', 'share', 'smile']\n",
      "160\n"
     ]
    }
   ],
   "source": [
    "from experiments.experiment_2.data import words\n",
    "\n",
    "MWB1=words.MATERIAL_WELL_BEING['Concrete']\n",
    "MWB1 = [word if word != \"books\" else \"book\" for word in MWB1] # fix at the end replacing book with books\n",
    "MWB2=words.MATERIAL_WELL_BEING['Abstract']\n",
    "\n",
    "H1=words.HEALTH['Concrete']\n",
    "H1 = [word if word != \"cigarettes\" else \"cigarette\" for word in H1] # fix at the end replacing cigarette with cigarettes\n",
    "H1 = [word if word != \"fruits\" else \"fruit\" for word in H1] # fix at the end replacing fruit with fruits\n",
    "\n",
    "H2=words.HEALTH['Abstract']\n",
    "\n",
    "P1=words.PRODUCTIVITY['Concrete']\n",
    "P2=words.PRODUCTIVITY['Abstract']\n",
    "print(P1)\n",
    "P1= [word if word != \"time-management\" else \"timekeeping\" for word in P1] # fix at the end replacing timekeeping with time-management\n",
    "print(P1)\n",
    "I1=words.INTIMACY['Concrete']\n",
    "I1= [word if word != \"bickering\" else \"bicker\" for word in I1] # fix at the end replacing bickering with squabbling\n",
    "I2=words.INTIMACY['Abstract']\n",
    "I1= [word if word != \"sharing\" else \"share\" for word in I1] # fix at the end replacing bickering with squabbling\n",
    "print(I1)\n",
    "\n",
    "ALL_LIST = MWB1 + MWB2 + H1 + H2 + P1 + P2 + I1 + I2\n",
    "#imprimir len de all list\n",
    "print(len(ALL_LIST))\n",
    "ALL_LIST_CONCRETE = words.MATERIAL_WELL_BEING['Concrete'] + words.HEALTH['Concrete'] + words.PRODUCTIVITY['Concrete'] + words.INTIMACY['Concrete']\n",
    "ALL_LIST_ABSTRACT = words.MATERIAL_WELL_BEING['Abstract'] + words.HEALTH['Abstract'] + words.PRODUCTIVITY['Abstract'] + words.INTIMACY['Abstract']"
   ]
  },
  {
   "cell_type": "markdown",
   "metadata": {},
   "source": [
    "### ALL LIST"
   ]
  },
  {
   "cell_type": "code",
   "execution_count": 3,
   "metadata": {},
   "outputs": [
    {
     "data": {
      "text/plain": [
       "(                 Word  Bigram  Conc.M  Conc.SD  Unknown  Total  Percent_known  \\\n",
       " 248       achievement       0    2.37     1.50        0     30            1.0   \n",
       " 408        admiration       0    1.86     1.06        0     29            1.0   \n",
       " 622            agenda       0    2.66     1.32        0     29            1.0   \n",
       " 638    aggressiveness       0    2.59     1.19        0     27            1.0   \n",
       " 681               aid       0    3.10     1.47        0     29            1.0   \n",
       " ...               ...     ...     ...      ...      ...    ...            ...   \n",
       " 36033           watch       0    4.61     0.83        0     28            1.0   \n",
       " 36047           water       0    5.00     0.00        0     28            1.0   \n",
       " 36117        weakness       0    2.59     1.47        0     27            1.0   \n",
       " 36118          wealth       0    2.63     1.50        0     27            1.0   \n",
       " 36911           yacht       0    4.97     0.19        0     29            1.0   \n",
       " \n",
       "        SUBTLEX  \n",
       " 248        178  \n",
       " 408        107  \n",
       " 622        373  \n",
       " 638         20  \n",
       " 681        709  \n",
       " ...        ...  \n",
       " 36033    16831  \n",
       " 36047    11478  \n",
       " 36117      454  \n",
       " 36118      324  \n",
       " 36911      419  \n",
       " \n",
       " [160 rows x 8 columns],\n",
       " set())"
      ]
     },
     "execution_count": 3,
     "metadata": {},
     "output_type": "execute_result"
    }
   ],
   "source": [
    "filtered_data = concreteness_data[concreteness_data['Word'].isin(ALL_LIST)]\n",
    "filtered_data = filtered_data.sort_values('Word')\n",
    "\n",
    "missing_words = set(ALL_LIST) - set(filtered_data['Word'])\n",
    "\n",
    "filtered_data, missing_words"
   ]
  },
  {
   "cell_type": "markdown",
   "metadata": {},
   "source": [
    "## Median-split"
   ]
  },
  {
   "cell_type": "code",
   "execution_count": 4,
   "metadata": {},
   "outputs": [
    {
     "data": {
      "text/plain": [
       "(3.125,\n",
       "              Word  Conc.M ConcretenessCategory\n",
       " 16872  insecurity    1.52             Abstract\n",
       " 19027     loyalty    1.57             Abstract\n",
       " 15663   ignorance    1.60             Abstract\n",
       " 23104       peace    1.62             Abstract\n",
       " 35445       value    1.62             Abstract\n",
       " ...           ...     ...                  ...\n",
       " 36911       yacht    4.97             Concrete\n",
       " 5290        clock    5.00             Concrete\n",
       " 36047       water    5.00             Concrete\n",
       " 15255       house    5.00             Concrete\n",
       " 4165       camera    5.00             Concrete\n",
       " \n",
       " [160 rows x 3 columns])"
      ]
     },
     "execution_count": 4,
     "metadata": {},
     "output_type": "execute_result"
    }
   ],
   "source": [
    "median_concreteness = filtered_data['Conc.M'].median()\n",
    "\n",
    "filtered_data[\"ConcretenessCategory\"] = filtered_data[\"Conc.M\"].apply(lambda x: \"Concrete\" if x >= median_concreteness else \"Abstract\")\n",
    "\n",
    "filtered_data['Word'] = filtered_data['Word'].apply(lambda x: 'books' if x == 'book' else x)\n",
    "filtered_data['Word'] = filtered_data['Word'].apply(lambda x: 'cigarettes' if x == 'cigarette' else x)\n",
    "filtered_data['Word'] = filtered_data['Word'].apply(lambda x: 'fruits' if x == 'fruit' else x)\n",
    "filtered_data['Word'] = filtered_data['Word'].apply(lambda x: 'time-management' if x == 'timekeeping' else x)\n",
    "filtered_data['Word'] = filtered_data['Word'].apply(lambda x: 'bickering' if x == 'bicker' else x)\n",
    "filtered_data['Word'] = filtered_data['Word'].apply(lambda x: 'sharing' if x == 'share' else x)\n",
    "\n",
    "concrete_words = filtered_data[filtered_data['ConcretenessCategory'] == 'Concrete']['Word'].head(80).tolist()\n",
    "abstract_words = filtered_data[filtered_data['ConcretenessCategory'] == 'Abstract']['Word'].head(80).tolist()\n",
    "\n",
    "dict_r = {\n",
    "    'concrete': concrete_words,\n",
    "    'abstract': abstract_words\n",
    "}\n",
    "\n",
    "\n",
    "median_concreteness, filtered_data[['Word', 'Conc.M', 'ConcretenessCategory']].sort_values(by='Conc.M')"
   ]
  },
  {
   "cell_type": "code",
   "execution_count": 5,
   "metadata": {},
   "outputs": [
    {
     "name": "stdout",
     "output_type": "stream",
     "text": [
      "80\n",
      "80\n"
     ]
    }
   ],
   "source": [
    "dict_r\n",
    "#imprimir el len de cada categoria\n",
    "print(len(concrete_words))\n",
    "print(len(abstract_words))"
   ]
  },
  {
   "cell_type": "markdown",
   "metadata": {},
   "source": [
    "## Comparison"
   ]
  },
  {
   "cell_type": "markdown",
   "metadata": {},
   "source": [
    "### MWB"
   ]
  },
  {
   "cell_type": "code",
   "execution_count": 6,
   "metadata": {},
   "outputs": [
    {
     "name": "stdout",
     "output_type": "stream",
     "text": [
      "Words in the original list that are not in the result list (concrete): {'connection', 'compliment', 'time-management', 'sharing', 'presentation', 'organization'}\n",
      "Words in the original list that are not in the result list (abstract): {'savings', 'protein', 'illness', 'hazard', 'diet', 'property'}\n"
     ]
    }
   ],
   "source": [
    "all_set_concrete = set(ALL_LIST_CONCRETE)\n",
    "all_set_abstract = set(ALL_LIST_ABSTRACT)\n",
    "\n",
    "result_all_set_concrete = set(dict_r['concrete'])\n",
    "result_all_set_abstract = set(dict_r['abstract'])\n",
    "\n",
    "diferencias_concrete = all_set_concrete.difference(result_all_set_concrete)\n",
    "diferencias_abstract = all_set_abstract.difference(result_all_set_abstract)\n",
    "\n",
    "print(\"Words in the original list that are not in the result list (concrete):\", diferencias_concrete)\n",
    "print(\"Words in the original list that are not in the result list (abstract):\", diferencias_abstract)"
   ]
  },
  {
   "cell_type": "markdown",
   "metadata": {},
   "source": [
    "## Save data"
   ]
  },
  {
   "cell_type": "code",
   "execution_count": 7,
   "metadata": {},
   "outputs": [],
   "source": [
    "import json\n",
    "\n",
    "with open('experiments/experiment_2/data/concreteness.json', 'w') as f:\n",
    "    json.dump(dict_r, f, indent=4)"
   ]
  }
 ],
 "metadata": {
  "kernelspec": {
   "display_name": "psy_inv",
   "language": "python",
   "name": "python3"
  },
  "language_info": {
   "codemirror_mode": {
    "name": "ipython",
    "version": 3
   },
   "file_extension": ".py",
   "mimetype": "text/x-python",
   "name": "python",
   "nbconvert_exporter": "python",
   "pygments_lexer": "ipython3",
   "version": "3.10.13"
  }
 },
 "nbformat": 4,
 "nbformat_minor": 2
}
